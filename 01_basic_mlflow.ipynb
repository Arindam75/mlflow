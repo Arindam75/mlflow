{
 "cells": [
  {
   "cell_type": "markdown",
   "id": "a3f25bcb-d39f-4c81-a4f4-7e04961ffc43",
   "metadata": {},
   "source": [
    "[__Colab Example__](https://www.dagshub.com/Dean/mlflow-colab-example)<br>\n",
    "[__Startup Code__](https://dagshub.com/arindam.d.dey/my-first-repo/experiments/#/)"
   ]
  },
  {
   "cell_type": "code",
   "execution_count": 1,
   "id": "143b8485-0b74-4528-bdfd-a3f11d346481",
   "metadata": {},
   "outputs": [],
   "source": [
    "import dagshub\n",
    "import mlflow\n",
    "import os\n",
    "\n",
    "import numpy as np\n",
    "import matplotlib.pyplot as plt\n",
    "import tensorflow as tf\n",
    "from matplotlib import pyplot as plt"
   ]
  },
  {
   "cell_type": "code",
   "execution_count": 2,
   "id": "ccc014f4-98bb-4ef7-b27c-67f54e82570c",
   "metadata": {},
   "outputs": [],
   "source": [
    "mnist = tf.keras.datasets.mnist\n",
    "train_data, test_data = mnist.load_data()\n",
    "\n",
    "# Divide the data into features and labels.\n",
    "train_images, train_labels = train_data\n",
    "test_images, test_labels = test_data\n",
    "\n",
    "# Reshape and normalize the images.\n",
    "X_train = train_images.reshape((60000, 784))\n",
    "X_train = X_train.astype('float32') / 255\n",
    "X_test = test_images.reshape((10000, 784))\n",
    "X_test = X_test.astype('float32') / 255\n",
    "\n",
    "# Reshape the labels and encode them categorically.\n",
    "y_train = tf.keras.utils.to_categorical(train_labels)\n",
    "y_test = tf.keras.utils.to_categorical(test_labels)\n",
    "\n",
    "# Define the sequential model.\n",
    "model = tf.keras.models.Sequential()\n",
    "\n",
    "# Add two fully-connected layers to the network.\n",
    "model.add(tf.keras.layers.Dense(512, activation='relu', input_shape=(28 * 28,)))\n",
    "model.add(tf.keras.layers.Dense(10, activation='softmax'))\n",
    "\n",
    "# Compile the model.\n",
    "model.compile(optimizer='adam', loss='categorical_crossentropy', metrics=['accuracy'])"
   ]
  },
  {
   "cell_type": "code",
   "execution_count": 3,
   "id": "7c8e07d9-259b-4e2b-a5d3-7893625f74ad",
   "metadata": {},
   "outputs": [],
   "source": [
    "#os.getenv('MLFLOW_TRACKING_PASSWORD')"
   ]
  },
  {
   "cell_type": "code",
   "execution_count": 4,
   "id": "9eedd208-e359-41f3-af66-11cdde70415f",
   "metadata": {},
   "outputs": [
    {
     "data": {
      "text/html": [
       "<pre style=\"white-space:pre;overflow-x:auto;line-height:normal;font-family:Menlo,'DejaVu Sans Mono',consolas,'Courier New',monospace\">Initialized MLflow to track repo <span style=\"color: #008000; text-decoration-color: #008000\">\"arindam.d.dey/my-first-repo\"</span>\n",
       "</pre>\n"
      ],
      "text/plain": [
       "Initialized MLflow to track repo \u001b[32m\"arindam.d.dey/my-first-repo\"\u001b[0m\n"
      ]
     },
     "metadata": {},
     "output_type": "display_data"
    },
    {
     "data": {
      "text/html": [
       "<pre style=\"white-space:pre;overflow-x:auto;line-height:normal;font-family:Menlo,'DejaVu Sans Mono',consolas,'Courier New',monospace\">Repository arindam.d.dey/my-first-repo initialized!\n",
       "</pre>\n"
      ],
      "text/plain": [
       "Repository arindam.d.dey/my-first-repo initialized!\n"
      ]
     },
     "metadata": {},
     "output_type": "display_data"
    },
    {
     "data": {
      "text/plain": [
       "<ActiveRun: >"
      ]
     },
     "execution_count": 4,
     "metadata": {},
     "output_type": "execute_result"
    }
   ],
   "source": [
    "dagshub.init('my-first-repo',\n",
    "             'arindam.d.dey',\n",
    "              mlflow=True)\n",
    "mlflow.start_run()"
   ]
  },
  {
   "cell_type": "code",
   "execution_count": 5,
   "id": "d4ec9236-eec1-42ae-ac23-285f7233d676",
   "metadata": {},
   "outputs": [
    {
     "name": "stdout",
     "output_type": "stream",
     "text": [
      "Epoch 1/10\n",
      "235/235 [==============================] - 2s 6ms/step - loss: 0.3289 - accuracy: 0.9090 - val_loss: 0.1633 - val_accuracy: 0.9518\n",
      "Epoch 2/10\n",
      "235/235 [==============================] - 1s 5ms/step - loss: 0.1359 - accuracy: 0.9611 - val_loss: 0.1201 - val_accuracy: 0.9647\n",
      "Epoch 3/10\n",
      "235/235 [==============================] - 1s 5ms/step - loss: 0.0920 - accuracy: 0.9734 - val_loss: 0.0897 - val_accuracy: 0.9718\n",
      "Epoch 4/10\n",
      "235/235 [==============================] - 1s 5ms/step - loss: 0.0666 - accuracy: 0.9814 - val_loss: 0.0793 - val_accuracy: 0.9745\n",
      "Epoch 5/10\n",
      "235/235 [==============================] - 1s 5ms/step - loss: 0.0506 - accuracy: 0.9857 - val_loss: 0.0759 - val_accuracy: 0.9761\n",
      "Epoch 6/10\n",
      "235/235 [==============================] - 1s 5ms/step - loss: 0.0397 - accuracy: 0.9889 - val_loss: 0.0692 - val_accuracy: 0.9781\n",
      "Epoch 7/10\n",
      "235/235 [==============================] - 1s 5ms/step - loss: 0.0308 - accuracy: 0.9918 - val_loss: 0.0644 - val_accuracy: 0.9797\n",
      "Epoch 8/10\n",
      "235/235 [==============================] - 1s 5ms/step - loss: 0.0246 - accuracy: 0.9938 - val_loss: 0.0689 - val_accuracy: 0.9786\n",
      "Epoch 9/10\n",
      "235/235 [==============================] - 1s 5ms/step - loss: 0.0194 - accuracy: 0.9953 - val_loss: 0.0661 - val_accuracy: 0.9801\n",
      "Epoch 10/10\n",
      "235/235 [==============================] - 1s 5ms/step - loss: 0.0156 - accuracy: 0.9966 - val_loss: 0.0613 - val_accuracy: 0.9811\n"
     ]
    }
   ],
   "source": [
    "# Define the parameters.\n",
    "num_epochs = 10\n",
    "batch_size = 256\n",
    "\n",
    "# Train the model.\n",
    "history = model.fit(X_train,\n",
    "                      y_train,\n",
    "                      epochs=num_epochs,\n",
    "                      batch_size=batch_size,\n",
    "                      validation_data=(X_test, y_test))"
   ]
  },
  {
   "cell_type": "code",
   "execution_count": 6,
   "id": "2cff8d25-03ca-4bcb-871c-16f2d56bfe93",
   "metadata": {},
   "outputs": [
    {
     "name": "stdout",
     "output_type": "stream",
     "text": [
      "313/313 [==============================] - 0s 1ms/step - loss: 0.0613 - accuracy: 0.9811\n",
      "Test Accuracy: 0.9811000227928162\n",
      "Test Loss: 0.061259496957063675\n"
     ]
    }
   ],
   "source": [
    "test_loss, test_accuracy = model.evaluate(X_test, y_test)\n",
    "print('Test Accuracy:', test_accuracy)\n",
    "print('Test Loss:', test_loss)"
   ]
  },
  {
   "cell_type": "code",
   "execution_count": 7,
   "id": "9679462c-2793-4d5e-8207-9e16b6a350ad",
   "metadata": {},
   "outputs": [],
   "source": [
    "mlflow.log_metric(\"test_accuracy\", test_accuracy)\n",
    "mlflow.log_metric(\"test_loss\", test_loss)"
   ]
  },
  {
   "cell_type": "code",
   "execution_count": 8,
   "id": "3ff34784-70f2-4411-bcb5-6f99e2dc04d6",
   "metadata": {},
   "outputs": [
    {
     "name": "stdout",
     "output_type": "stream",
     "text": [
      "Model: \"sequential\"\n",
      "_________________________________________________________________\n",
      " Layer (type)                Output Shape              Param #   \n",
      "=================================================================\n",
      " dense (Dense)               (None, 512)               401920    \n",
      "                                                                 \n",
      " dense_1 (Dense)             (None, 10)                5130      \n",
      "                                                                 \n",
      "=================================================================\n",
      "Total params: 407,050\n",
      "Trainable params: 407,050\n",
      "Non-trainable params: 0\n",
      "_________________________________________________________________\n"
     ]
    }
   ],
   "source": [
    "model.summary()"
   ]
  },
  {
   "cell_type": "code",
   "execution_count": 9,
   "id": "06026db2-8acc-436b-86c2-13ad69ed4396",
   "metadata": {},
   "outputs": [
    {
     "data": {
      "text/plain": [
       "[<matplotlib.lines.Line2D at 0x19622cb1fa0>]"
      ]
     },
     "execution_count": 9,
     "metadata": {},
     "output_type": "execute_result"
    },
    {
     "data": {
      "image/png": "[encoded data removed]",
      "text/plain": [
       "<Figure size 1000x400 with 2 Axes>"
      ]
     },
     "metadata": {},
     "output_type": "display_data"
    }
   ],
   "source": [
    "fig, ax = plt.subplots(1,2,figsize=(10,4))\n",
    "ax[0].plot(history.history['accuracy'])\n",
    "ax[0].plot(history.history['val_accuracy'])\n",
    "ax[1].plot(history.history['loss'])\n",
    "ax[1].plot(history.history['val_loss'])"
   ]
  },
  {
   "cell_type": "code",
   "execution_count": 10,
   "id": "eb4c91d2-39a4-4f0d-a6ec-649da203cb14",
   "metadata": {},
   "outputs": [],
   "source": [
    "mlflow.log_figure(fig,'plot.png')"
   ]
  },
  {
   "cell_type": "code",
   "execution_count": 11,
   "id": "c5d690b2-ccf9-4a0d-8d16-b0bc4b67bd28",
   "metadata": {},
   "outputs": [],
   "source": [
    "mlflow.end_run()"
   ]
  },
  {
   "cell_type": "code",
   "execution_count": null,
   "id": "25a6dc01-2903-40dc-baea-5082d657287d",
   "metadata": {},
   "outputs": [],
   "source": []
  }
 ],
 "metadata": {
  "kernelspec": {
   "display_name": "tf",
   "language": "python",
   "name": "tf"
  },
  "language_info": {
   "codemirror_mode": {
    "name": "ipython",
    "version": 3
   },
   "file_extension": ".py",
   "mimetype": "text/x-python",
   "name": "python",
   "nbconvert_exporter": "python",
   "pygments_lexer": "ipython3",
   "version": "3.9.16"
  }
 },
 "nbformat": 4,
 "nbformat_minor": 5
}
