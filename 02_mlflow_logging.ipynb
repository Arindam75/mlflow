{
 "cells": [
  {
   "cell_type": "code",
   "execution_count": 6,
   "id": "e50c3ce7-dab6-4f28-954a-ce0f9612572d",
   "metadata": {
    "tags": []
   },
   "outputs": [],
   "source": [
    "import dagshub\n",
    "import mlflow\n",
    "import os\n",
    "\n",
    "import numpy as np\n",
    "import matplotlib.pyplot as plt\n",
    "import tensorflow as tf\n",
    "from matplotlib import pyplot as plt"
   ]
  },
  {
   "cell_type": "code",
   "execution_count": 7,
   "id": "6f23f08e-28d5-4235-8a29-807b7f9e9f03",
   "metadata": {
    "tags": []
   },
   "outputs": [],
   "source": [
    "mnist = tf.keras.datasets.mnist\n",
    "train_data, test_data = mnist.load_data()\n",
    "\n",
    "# Divide the data into features and labels.\n",
    "train_images, train_labels = train_data\n",
    "test_images, test_labels = test_data\n",
    "\n",
    "# Reshape and normalize the images.\n",
    "X_train = train_images.reshape((60000, 784))\n",
    "X_train = X_train.astype('float32') / 255\n",
    "X_test = test_images.reshape((10000, 784))\n",
    "X_test = X_test.astype('float32') / 255\n",
    "\n",
    "# Reshape the labels and encode them categorically.\n",
    "y_train = tf.keras.utils.to_categorical(train_labels)\n",
    "y_test = tf.keras.utils.to_categorical(test_labels)\n",
    "\n",
    "# Define the sequential model.\n",
    "model = tf.keras.models.Sequential()\n",
    "\n",
    "# Add two fully-connected layers to the network.\n",
    "model.add(tf.keras.layers.Dense(512, activation='relu', input_shape=(28 * 28,)))\n",
    "model.add(tf.keras.layers.Dense(10, activation='softmax'))\n",
    "\n",
    "# Compile the model.\n",
    "model.compile(optimizer='adam', loss='categorical_crossentropy', metrics=['accuracy'])"
   ]
  },
  {
   "cell_type": "code",
   "execution_count": 8,
   "id": "528dfdd1-723b-4582-b0bd-9c560447ec80",
   "metadata": {
    "tags": []
   },
   "outputs": [
    {
     "data": {
      "text/html": [
       "<pre style=\"white-space:pre;overflow-x:auto;line-height:normal;font-family:Menlo,'DejaVu Sans Mono',consolas,'Courier New',monospace\">Initialized MLflow to track repo <span style=\"color: #008000; text-decoration-color: #008000\">\"arindam.d.dey/autolog\"</span>\n",
       "</pre>\n"
      ],
      "text/plain": [
       "Initialized MLflow to track repo \u001b[32m\"arindam.d.dey/autolog\"\u001b[0m\n"
      ]
     },
     "metadata": {},
     "output_type": "display_data"
    },
    {
     "data": {
      "text/html": [
       "<pre style=\"white-space:pre;overflow-x:auto;line-height:normal;font-family:Menlo,'DejaVu Sans Mono',consolas,'Courier New',monospace\">Repository arindam.d.dey/autolog initialized!\n",
       "</pre>\n"
      ],
      "text/plain": [
       "Repository arindam.d.dey/autolog initialized!\n"
      ]
     },
     "metadata": {},
     "output_type": "display_data"
    }
   ],
   "source": [
    "mlflow.tensorflow.autolog()\n",
    "\n",
    "dagshub.init('autolog',\n",
    "             'arindam.d.dey',\n",
    "              mlflow=True)"
   ]
  },
  {
   "cell_type": "code",
   "execution_count": 9,
   "id": "b6e341c1-aaa0-4ceb-b0fd-ddabc9b9120a",
   "metadata": {
    "tags": []
   },
   "outputs": [
    {
     "name": "stderr",
     "output_type": "stream",
     "text": [
      "2024/06/15 21:00:53 INFO mlflow.utils.autologging_utils: Created MLflow autologging run with ID '6d548f4c0fb045c49f9b90574787bb8c', which will track hyperparameters, performance metrics, model artifacts, and lineage information for the current tensorflow workflow\n"
     ]
    },
    {
     "name": "stdout",
     "output_type": "stream",
     "text": [
      "Epoch 1/10\n",
      "235/235 [==============================] - 2s 8ms/step - loss: 0.3285 - accuracy: 0.9079 - val_loss: 0.1645 - val_accuracy: 0.9529\n",
      "Epoch 2/10\n",
      "235/235 [==============================] - 1s 5ms/step - loss: 0.1356 - accuracy: 0.9615 - val_loss: 0.1183 - val_accuracy: 0.9644\n",
      "Epoch 3/10\n",
      "235/235 [==============================] - 1s 5ms/step - loss: 0.0909 - accuracy: 0.9737 - val_loss: 0.0926 - val_accuracy: 0.9717\n",
      "Epoch 4/10\n",
      "235/235 [==============================] - 1s 6ms/step - loss: 0.0670 - accuracy: 0.9809 - val_loss: 0.0799 - val_accuracy: 0.9761\n",
      "Epoch 5/10\n",
      "235/235 [==============================] - 2s 8ms/step - loss: 0.0507 - accuracy: 0.9858 - val_loss: 0.0717 - val_accuracy: 0.9788\n",
      "Epoch 6/10\n",
      "235/235 [==============================] - 1s 6ms/step - loss: 0.0397 - accuracy: 0.9893 - val_loss: 0.0668 - val_accuracy: 0.9802\n",
      "Epoch 7/10\n",
      "235/235 [==============================] - 1s 6ms/step - loss: 0.0309 - accuracy: 0.9920 - val_loss: 0.0650 - val_accuracy: 0.9794\n",
      "Epoch 8/10\n",
      "235/235 [==============================] - 2s 8ms/step - loss: 0.0240 - accuracy: 0.9937 - val_loss: 0.0642 - val_accuracy: 0.9801\n",
      "Epoch 9/10\n",
      "235/235 [==============================] - 1s 6ms/step - loss: 0.0197 - accuracy: 0.9955 - val_loss: 0.0614 - val_accuracy: 0.9816\n",
      "Epoch 10/10\n",
      "235/235 [==============================] - 1s 5ms/step - loss: 0.0154 - accuracy: 0.9969 - val_loss: 0.0679 - val_accuracy: 0.9790\n",
      "1/1 [==============================] - 0s 115ms/step\n",
      "INFO:tensorflow:Assets written to: C:\\Users\\arind\\AppData\\Local\\Temp\\tmpx4hwvtpx\\model\\data\\model\\assets\n"
     ]
    }
   ],
   "source": [
    "# Define the parameters.\n",
    "num_epochs = 10\n",
    "batch_size = 256\n",
    "\n",
    "# Train the model.\n",
    "history = model.fit(X_train,\n",
    "                      y_train,\n",
    "                      epochs=num_epochs,\n",
    "                      batch_size=batch_size,\n",
    "                      validation_data=(X_test, y_test))"
   ]
  },
  {
   "cell_type": "code",
   "execution_count": 10,
   "id": "3f62d65a-e9ca-4dce-aecd-94f3e4de1b27",
   "metadata": {
    "tags": []
   },
   "outputs": [],
   "source": [
    "mlflow.end_run()"
   ]
  },
  {
   "cell_type": "code",
   "execution_count": null,
   "id": "6ffa13ef-f1ba-4d70-bc8e-f8a9bd59a65b",
   "metadata": {},
   "outputs": [],
   "source": []
  }
 ],
 "metadata": {
  "kernelspec": {
   "display_name": "tf",
   "language": "python",
   "name": "tf"
  },
  "language_info": {
   "codemirror_mode": {
    "name": "ipython",
    "version": 3
   },
   "file_extension": ".py",
   "mimetype": "text/x-python",
   "name": "python",
   "nbconvert_exporter": "python",
   "pygments_lexer": "ipython3",
   "version": "3.9.16"
  }
 },
 "nbformat": 4,
 "nbformat_minor": 5
}
