{
 "cells": [
  {
   "cell_type": "markdown",
   "id": "132445ec-e012-4f17-b74e-6c6a742789dd",
   "metadata": {},
   "source": [
    "In this experiment we will use mlflow autologging to create all model metrics and artifacts.\n",
    "\n",
    "Execute this command in the gitbash command line to start the mlflow ui<br>\n",
    "!python -m mlflow ui --backend-store-uri sqlite:///c:/users/arind/documents/mlflow/mlflow.db"
   ]
  },
  {
   "cell_type": "code",
   "execution_count": 1,
   "id": "e50c3ce7-dab6-4f28-954a-ce0f9612572d",
   "metadata": {
    "tags": []
   },
   "outputs": [],
   "source": [
    "import dagshub\n",
    "import mlflow\n",
    "import os\n",
    "\n",
    "import numpy as np\n",
    "import matplotlib.pyplot as plt\n",
    "import tensorflow as tf\n",
    "from matplotlib import pyplot as plt"
   ]
  },
  {
   "cell_type": "code",
   "execution_count": 2,
   "id": "6f23f08e-28d5-4235-8a29-807b7f9e9f03",
   "metadata": {
    "tags": []
   },
   "outputs": [],
   "source": [
    "mnist = tf.keras.datasets.mnist\n",
    "train_data, test_data = mnist.load_data()\n",
    "\n",
    "# Divide the data into features and labels.\n",
    "train_images, train_labels = train_data\n",
    "test_images, test_labels = test_data\n",
    "\n",
    "# Reshape and normalize the images.\n",
    "X_train = train_images.reshape((60000, 784))\n",
    "X_train = X_train.astype('float32') / 255\n",
    "X_test = test_images.reshape((10000, 784))\n",
    "X_test = X_test.astype('float32') / 255\n",
    "\n",
    "# Reshape the labels and encode them categorically.\n",
    "y_train = tf.keras.utils.to_categorical(train_labels)\n",
    "y_test = tf.keras.utils.to_categorical(test_labels)\n",
    "\n",
    "# Define the sequential model.\n",
    "model = tf.keras.models.Sequential()\n",
    "\n",
    "# Add two fully-connected layers to the network.\n",
    "model.add(tf.keras.layers.Dense(512, activation='relu', input_shape=(28 * 28,)))\n",
    "model.add(tf.keras.layers.Dense(10, activation='softmax'))\n",
    "\n",
    "# Compile the model.\n",
    "model.compile(optimizer='adam', loss='categorical_crossentropy', metrics=['accuracy'])"
   ]
  },
  {
   "cell_type": "code",
   "execution_count": 3,
   "id": "528dfdd1-723b-4582-b0bd-9c560447ec80",
   "metadata": {
    "tags": []
   },
   "outputs": [
    {
     "data": {
      "text/plain": [
       "\"\\ndagshub.init('autolog',\\n             'arindam.d.dey',\\n              mlflow=True)\\n\""
      ]
     },
     "execution_count": 3,
     "metadata": {},
     "output_type": "execute_result"
    }
   ],
   "source": [
    "mlflow.set_tracking_uri(\"sqlite:///mlflow.db\")\n",
    "mlflow.set_experiment(\"keras_log\")\n",
    "mlflow.tensorflow.autolog()"
   ]
  },
  {
   "cell_type": "code",
   "execution_count": 4,
   "id": "b6e341c1-aaa0-4ceb-b0fd-ddabc9b9120a",
   "metadata": {
    "tags": []
   },
   "outputs": [
    {
     "name": "stderr",
     "output_type": "stream",
     "text": [
      "2024/06/30 18:59:04 INFO mlflow.utils.autologging_utils: Created MLflow autologging run with ID '1d7e8adcea4246dba813cbdd9b10aeda', which will track hyperparameters, performance metrics, model artifacts, and lineage information for the current tensorflow workflow\n"
     ]
    },
    {
     "name": "stdout",
     "output_type": "stream",
     "text": [
      "Epoch 1/10\n",
      "235/235 [==============================] - 4s 6ms/step - loss: 0.3261 - accuracy: 0.9099 - val_loss: 0.1653 - val_accuracy: 0.9530\n",
      "Epoch 2/10\n",
      "235/235 [==============================] - 1s 5ms/step - loss: 0.1359 - accuracy: 0.9607 - val_loss: 0.1108 - val_accuracy: 0.9673\n",
      "Epoch 3/10\n",
      "235/235 [==============================] - 1s 5ms/step - loss: 0.0910 - accuracy: 0.9740 - val_loss: 0.0927 - val_accuracy: 0.9723\n",
      "Epoch 4/10\n",
      "235/235 [==============================] - 1s 6ms/step - loss: 0.0681 - accuracy: 0.9802 - val_loss: 0.0767 - val_accuracy: 0.9772\n",
      "Epoch 5/10\n",
      "235/235 [==============================] - 1s 6ms/step - loss: 0.0518 - accuracy: 0.9853 - val_loss: 0.0743 - val_accuracy: 0.9776\n",
      "Epoch 6/10\n",
      "235/235 [==============================] - 1s 5ms/step - loss: 0.0402 - accuracy: 0.9888 - val_loss: 0.0687 - val_accuracy: 0.9799\n",
      "Epoch 7/10\n",
      "235/235 [==============================] - 1s 5ms/step - loss: 0.0316 - accuracy: 0.9918 - val_loss: 0.0634 - val_accuracy: 0.9795\n",
      "Epoch 8/10\n",
      "235/235 [==============================] - 1s 5ms/step - loss: 0.0251 - accuracy: 0.9938 - val_loss: 0.0668 - val_accuracy: 0.9786\n",
      "Epoch 9/10\n",
      "235/235 [==============================] - 1s 5ms/step - loss: 0.0197 - accuracy: 0.9952 - val_loss: 0.0578 - val_accuracy: 0.9818\n",
      "Epoch 10/10\n",
      "235/235 [==============================] - 1s 5ms/step - loss: 0.0152 - accuracy: 0.9970 - val_loss: 0.0651 - val_accuracy: 0.9800\n",
      "1/1 [==============================] - 0s 126ms/step\n",
      "INFO:tensorflow:Assets written to: C:\\Users\\arind\\AppData\\Local\\Temp\\tmphl_0sorw\\model\\data\\model\\assets\n"
     ]
    },
    {
     "name": "stderr",
     "output_type": "stream",
     "text": [
      "2024/06/30 18:59:33 WARNING mlflow.utils.autologging_utils: MLflow autologging encountered a warning: \"c:\\Users\\arind\\anaconda3\\envs\\tf\\lib\\site-packages\\_distutils_hack\\__init__.py:33: UserWarning: Setuptools is replacing distutils.\"\n"
     ]
    }
   ],
   "source": [
    "# Define the parameters.\n",
    "num_epochs = 10\n",
    "batch_size = 256\n",
    "\n",
    "# Train the model.\n",
    "history = model.fit(X_train,\n",
    "                      y_train,\n",
    "                      epochs=num_epochs,\n",
    "                      batch_size=batch_size,\n",
    "                      validation_data=(X_test, y_test))"
   ]
  },
  {
   "cell_type": "code",
   "execution_count": 5,
   "id": "3f62d65a-e9ca-4dce-aecd-94f3e4de1b27",
   "metadata": {
    "tags": []
   },
   "outputs": [],
   "source": [
    "mlflow.end_run()"
   ]
  },
  {
   "cell_type": "markdown",
   "id": "f93dbb2e",
   "metadata": {},
   "source": [
    "The challenge with this methos is , we cannot manually log figures."
   ]
  },
  {
   "cell_type": "code",
   "execution_count": null,
   "id": "6ffa13ef-f1ba-4d70-bc8e-f8a9bd59a65b",
   "metadata": {},
   "outputs": [],
   "source": []
  }
 ],
 "metadata": {
  "kernelspec": {
   "display_name": "tf",
   "language": "python",
   "name": "tf"
  },
  "language_info": {
   "codemirror_mode": {
    "name": "ipython",
    "version": 3
   },
   "file_extension": ".py",
   "mimetype": "text/x-python",
   "name": "python",
   "nbconvert_exporter": "python",
   "pygments_lexer": "ipython3",
   "version": "3.9.16"
  }
 },
 "nbformat": 4,
 "nbformat_minor": 5
}
